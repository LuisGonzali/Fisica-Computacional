{
 "cells": [
  {
   "cell_type": "code",
   "execution_count": 171,
   "metadata": {},
   "outputs": [],
   "source": [
    "# Importamos las librerías necesarias para nuestro código\n",
    "import pandas as pd\n",
    "import numpy as np\n",
    "import seaborn as sns\n",
    "import matplotlib.pyplot as plt\n",
    "plt.rcParams.update({'font.size': 13})"
   ]
  },
  {
   "cell_type": "code",
   "execution_count": 172,
   "metadata": {},
   "outputs": [],
   "source": [
    "# Leemos el archivo \"Leon.txt\" con la siguiente función para empezar a trabajar.\n",
    "df0 = pd.read_csv('Leon.txt', skiprows=20, sep='\\s+',skipfooter=1,engine='python',names=('Fecha','Precip','Evap','Tmax','Tmin'))"
   ]
  },
  {
   "cell_type": "code",
   "execution_count": 173,
   "metadata": {},
   "outputs": [
    {
     "data": {
      "text/html": [
       "<div>\n",
       "<style scoped>\n",
       "    .dataframe tbody tr th:only-of-type {\n",
       "        vertical-align: middle;\n",
       "    }\n",
       "\n",
       "    .dataframe tbody tr th {\n",
       "        vertical-align: top;\n",
       "    }\n",
       "\n",
       "    .dataframe thead th {\n",
       "        text-align: right;\n",
       "    }\n",
       "</style>\n",
       "<table border=\"1\" class=\"dataframe\">\n",
       "  <thead>\n",
       "    <tr style=\"text-align: right;\">\n",
       "      <th></th>\n",
       "      <th>Fecha</th>\n",
       "      <th>Precip</th>\n",
       "      <th>Evap</th>\n",
       "      <th>Tmax</th>\n",
       "      <th>Tmin</th>\n",
       "    </tr>\n",
       "  </thead>\n",
       "  <tbody>\n",
       "    <tr>\n",
       "      <th>0</th>\n",
       "      <td>01/01/1961</td>\n",
       "      <td>0.0</td>\n",
       "      <td>3.7</td>\n",
       "      <td>25</td>\n",
       "      <td>9</td>\n",
       "    </tr>\n",
       "    <tr>\n",
       "      <th>1</th>\n",
       "      <td>02/01/1961</td>\n",
       "      <td>0.0</td>\n",
       "      <td>4.7</td>\n",
       "      <td>25.5</td>\n",
       "      <td>8.5</td>\n",
       "    </tr>\n",
       "    <tr>\n",
       "      <th>2</th>\n",
       "      <td>03/01/1961</td>\n",
       "      <td>0.0</td>\n",
       "      <td>5.4</td>\n",
       "      <td>25</td>\n",
       "      <td>6</td>\n",
       "    </tr>\n",
       "    <tr>\n",
       "      <th>3</th>\n",
       "      <td>04/01/1961</td>\n",
       "      <td>0.0</td>\n",
       "      <td>4</td>\n",
       "      <td>24</td>\n",
       "      <td>6</td>\n",
       "    </tr>\n",
       "    <tr>\n",
       "      <th>4</th>\n",
       "      <td>05/01/1961</td>\n",
       "      <td>0.0</td>\n",
       "      <td>2.8</td>\n",
       "      <td>24.5</td>\n",
       "      <td>6</td>\n",
       "    </tr>\n",
       "  </tbody>\n",
       "</table>\n",
       "</div>"
      ],
      "text/plain": [
       "        Fecha  Precip Evap  Tmax Tmin\n",
       "0  01/01/1961     0.0  3.7    25    9\n",
       "1  02/01/1961     0.0  4.7  25.5  8.5\n",
       "2  03/01/1961     0.0  5.4    25    6\n",
       "3  04/01/1961     0.0    4    24    6\n",
       "4  05/01/1961     0.0  2.8  24.5    6"
      ]
     },
     "execution_count": 173,
     "metadata": {},
     "output_type": "execute_result"
    }
   ],
   "source": [
    "# Imprimimos los primeros renglones de la tabla para asegurarnos de que se haya leído correctamente.\n",
    "df0.head()"
   ]
  },
  {
   "cell_type": "code",
   "execution_count": 174,
   "metadata": {},
   "outputs": [],
   "source": [
    "df = pd.DataFrame(df0)"
   ]
  },
  {
   "cell_type": "code",
   "execution_count": 175,
   "metadata": {},
   "outputs": [],
   "source": [
    "# Remplazamos la palabra \"Nulo\" del archivo de texto por \"NaN\" para que python pueda leerlo como dato nulo.\n",
    "df = df.replace('Nulo','NaN')"
   ]
  },
  {
   "cell_type": "code",
   "execution_count": null,
   "metadata": {},
   "outputs": [],
   "source": []
  },
  {
   "cell_type": "code",
   "execution_count": 176,
   "metadata": {},
   "outputs": [],
   "source": [
    "# Cambiamos los tipos de datos para poder empezar a trabajar con ellos de manera correcta y para que python los reconozca.\n",
    "# Además cambiamos el tipo de dato de la fecha para que lo reconozca como fecha.\n",
    "df['Fecha'] = pd.to_datetime(df.apply(lambda x: x['Fecha'], 1), dayfirst=True)\n",
    "df['Precip'] = df['Precip'].astype(float)\n",
    "df['Evap'] = df['Evap'].astype(float)\n",
    "df['Tmax'] = df['Tmax'].astype(float)\n",
    "df['Tmin'] = df['Tmin'].astype(float)"
   ]
  },
  {
   "cell_type": "code",
   "execution_count": 177,
   "metadata": {},
   "outputs": [],
   "source": [
    "df['Tsum'] = df.Tmin + df.Tmax"
   ]
  },
  {
   "cell_type": "code",
   "execution_count": 178,
   "metadata": {},
   "outputs": [],
   "source": [
    "df['Tprom'] = df.Tsum / 2"
   ]
  },
  {
   "cell_type": "code",
   "execution_count": 179,
   "metadata": {},
   "outputs": [
    {
     "data": {
      "text/html": [
       "<div>\n",
       "<style scoped>\n",
       "    .dataframe tbody tr th:only-of-type {\n",
       "        vertical-align: middle;\n",
       "    }\n",
       "\n",
       "    .dataframe tbody tr th {\n",
       "        vertical-align: top;\n",
       "    }\n",
       "\n",
       "    .dataframe thead th {\n",
       "        text-align: right;\n",
       "    }\n",
       "</style>\n",
       "<table border=\"1\" class=\"dataframe\">\n",
       "  <thead>\n",
       "    <tr style=\"text-align: right;\">\n",
       "      <th></th>\n",
       "      <th>Fecha</th>\n",
       "      <th>Precip</th>\n",
       "      <th>Evap</th>\n",
       "      <th>Tmax</th>\n",
       "      <th>Tmin</th>\n",
       "      <th>Tsum</th>\n",
       "      <th>Tprom</th>\n",
       "    </tr>\n",
       "  </thead>\n",
       "  <tbody>\n",
       "    <tr>\n",
       "      <th>0</th>\n",
       "      <td>1961-01-01</td>\n",
       "      <td>0.0</td>\n",
       "      <td>3.7</td>\n",
       "      <td>25.0</td>\n",
       "      <td>9.0</td>\n",
       "      <td>34.0</td>\n",
       "      <td>17.00</td>\n",
       "    </tr>\n",
       "    <tr>\n",
       "      <th>1</th>\n",
       "      <td>1961-01-02</td>\n",
       "      <td>0.0</td>\n",
       "      <td>4.7</td>\n",
       "      <td>25.5</td>\n",
       "      <td>8.5</td>\n",
       "      <td>34.0</td>\n",
       "      <td>17.00</td>\n",
       "    </tr>\n",
       "    <tr>\n",
       "      <th>2</th>\n",
       "      <td>1961-01-03</td>\n",
       "      <td>0.0</td>\n",
       "      <td>5.4</td>\n",
       "      <td>25.0</td>\n",
       "      <td>6.0</td>\n",
       "      <td>31.0</td>\n",
       "      <td>15.50</td>\n",
       "    </tr>\n",
       "    <tr>\n",
       "      <th>3</th>\n",
       "      <td>1961-01-04</td>\n",
       "      <td>0.0</td>\n",
       "      <td>4.0</td>\n",
       "      <td>24.0</td>\n",
       "      <td>6.0</td>\n",
       "      <td>30.0</td>\n",
       "      <td>15.00</td>\n",
       "    </tr>\n",
       "    <tr>\n",
       "      <th>4</th>\n",
       "      <td>1961-01-05</td>\n",
       "      <td>0.0</td>\n",
       "      <td>2.8</td>\n",
       "      <td>24.5</td>\n",
       "      <td>6.0</td>\n",
       "      <td>30.5</td>\n",
       "      <td>15.25</td>\n",
       "    </tr>\n",
       "  </tbody>\n",
       "</table>\n",
       "</div>"
      ],
      "text/plain": [
       "       Fecha  Precip  Evap  Tmax  Tmin  Tsum  Tprom\n",
       "0 1961-01-01     0.0   3.7  25.0   9.0  34.0  17.00\n",
       "1 1961-01-02     0.0   4.7  25.5   8.5  34.0  17.00\n",
       "2 1961-01-03     0.0   5.4  25.0   6.0  31.0  15.50\n",
       "3 1961-01-04     0.0   4.0  24.0   6.0  30.0  15.00\n",
       "4 1961-01-05     0.0   2.8  24.5   6.0  30.5  15.25"
      ]
     },
     "execution_count": 179,
     "metadata": {},
     "output_type": "execute_result"
    }
   ],
   "source": [
    "df.head()"
   ]
  },
  {
   "cell_type": "code",
   "execution_count": 180,
   "metadata": {},
   "outputs": [
    {
     "data": {
      "text/plain": [
       "Text(0.5, 0, 'Días con heladas por año')"
      ]
     },
     "execution_count": 180,
     "metadata": {},
     "output_type": "execute_result"
    },
    {
     "data": {
      "image/png": "[encoded data removed]",
      "text/plain": [
       "<Figure size 576x360 with 1 Axes>"
      ]
     },
     "metadata": {
      "needs_background": "light"
     },
     "output_type": "display_data"
    }
   ],
   "source": [
    "# Número de días con heladas por año (FD: Tmin < 0ºC)\n",
    "fig = plt.figure(figsize=(8,5))\n",
    "df_FD = df[df.Tmin < 0]\n",
    "df_FD['Tmin'].groupby(df.Fecha.dt.year).agg('count').plot(kind = 'barh', legend = '')\n",
    "plt.title('Número de días con heladas por año (FD: Tmin < 0ºC)')\n",
    "plt.ylabel('Año')\n",
    "plt.xlabel('Días con heladas por año')"
   ]
  },
  {
   "cell_type": "code",
   "execution_count": 181,
   "metadata": {},
   "outputs": [
    {
     "data": {
      "text/plain": [
       "Text(0.5, 0, 'Año')"
      ]
     },
     "execution_count": 181,
     "metadata": {},
     "output_type": "execute_result"
    },
    {
     "data": {
      "image/png": "[encoded data removed]",
      "text/plain": [
       "<Figure size 1080x504 with 1 Axes>"
      ]
     },
     "metadata": {
      "needs_background": "light"
     },
     "output_type": "display_data"
    }
   ],
   "source": [
    "# Número de días de verano por año (SU: Tmax > 25ºC)\n",
    "\n",
    "df_SU = df[df.Tmax > 25]\n",
    "\n",
    "fig = plt.figure(figsize=(15,7))\n",
    "df_SU['Tmax'].groupby(df.Fecha.dt.year).agg('count').plot(kind = 'bar', legend = '')\n",
    "plt.title('Número de días de verano por año (SU: Tmax > 25ºC)')\n",
    "plt.ylabel('Días de verano por año')\n",
    "plt.xlabel('Año')"
   ]
  },
  {
   "cell_type": "code",
   "execution_count": 182,
   "metadata": {},
   "outputs": [
    {
     "data": {
      "text/plain": [
       "Text(0.5, 0, 'Noches Tropicales')"
      ]
     },
     "execution_count": 182,
     "metadata": {},
     "output_type": "execute_result"
    },
    {
     "data": {
      "image/png": "[encoded data removed]",
      "text/plain": [
       "<Figure size 504x360 with 1 Axes>"
      ]
     },
     "metadata": {
      "needs_background": "light"
     },
     "output_type": "display_data"
    }
   ],
   "source": [
    "# Número de noches tropicales por año (TR: Tmin > 20ºC)\n",
    "\n",
    "df_TR = df[df.Tmin > 20]\n",
    "\n",
    "fig = plt.figure(figsize=(7,5))\n",
    "df_TR['Tmin'].groupby(df.Fecha.dt.year).agg('count').plot(kind = 'barh', legend = '')\n",
    "plt.title('Número de noches tropicales por año (TR: Tmin > 20ºC)')\n",
    "plt.ylabel('Año')\n",
    "plt.xlabel('Noches Tropicales')"
   ]
  },
  {
   "cell_type": "code",
   "execution_count": 214,
   "metadata": {},
   "outputs": [
    {
     "data": {
      "text/html": [
       "<div>\n",
       "<style scoped>\n",
       "    .dataframe tbody tr th:only-of-type {\n",
       "        vertical-align: middle;\n",
       "    }\n",
       "\n",
       "    .dataframe tbody tr th {\n",
       "        vertical-align: top;\n",
       "    }\n",
       "\n",
       "    .dataframe thead th {\n",
       "        text-align: right;\n",
       "    }\n",
       "</style>\n",
       "<table border=\"1\" class=\"dataframe\">\n",
       "  <thead>\n",
       "    <tr style=\"text-align: right;\">\n",
       "      <th></th>\n",
       "      <th>Fecha</th>\n",
       "      <th>Precip</th>\n",
       "      <th>Evap</th>\n",
       "      <th>Tmax</th>\n",
       "      <th>Tmin</th>\n",
       "      <th>Tsum</th>\n",
       "      <th>Tprom</th>\n",
       "      <th>Mes</th>\n",
       "      <th>Día</th>\n",
       "    </tr>\n",
       "  </thead>\n",
       "  <tbody>\n",
       "    <tr>\n",
       "      <th>0</th>\n",
       "      <td>1961-01-01</td>\n",
       "      <td>0.0</td>\n",
       "      <td>3.7</td>\n",
       "      <td>25.0</td>\n",
       "      <td>9.0</td>\n",
       "      <td>34.0</td>\n",
       "      <td>17.00</td>\n",
       "      <td>1</td>\n",
       "      <td>1</td>\n",
       "    </tr>\n",
       "    <tr>\n",
       "      <th>1</th>\n",
       "      <td>1961-01-02</td>\n",
       "      <td>0.0</td>\n",
       "      <td>4.7</td>\n",
       "      <td>25.5</td>\n",
       "      <td>8.5</td>\n",
       "      <td>34.0</td>\n",
       "      <td>17.00</td>\n",
       "      <td>1</td>\n",
       "      <td>2</td>\n",
       "    </tr>\n",
       "    <tr>\n",
       "      <th>2</th>\n",
       "      <td>1961-01-03</td>\n",
       "      <td>0.0</td>\n",
       "      <td>5.4</td>\n",
       "      <td>25.0</td>\n",
       "      <td>6.0</td>\n",
       "      <td>31.0</td>\n",
       "      <td>15.50</td>\n",
       "      <td>1</td>\n",
       "      <td>3</td>\n",
       "    </tr>\n",
       "    <tr>\n",
       "      <th>3</th>\n",
       "      <td>1961-01-04</td>\n",
       "      <td>0.0</td>\n",
       "      <td>4.0</td>\n",
       "      <td>24.0</td>\n",
       "      <td>6.0</td>\n",
       "      <td>30.0</td>\n",
       "      <td>15.00</td>\n",
       "      <td>1</td>\n",
       "      <td>4</td>\n",
       "    </tr>\n",
       "    <tr>\n",
       "      <th>4</th>\n",
       "      <td>1961-01-05</td>\n",
       "      <td>0.0</td>\n",
       "      <td>2.8</td>\n",
       "      <td>24.5</td>\n",
       "      <td>6.0</td>\n",
       "      <td>30.5</td>\n",
       "      <td>15.25</td>\n",
       "      <td>1</td>\n",
       "      <td>5</td>\n",
       "    </tr>\n",
       "  </tbody>\n",
       "</table>\n",
       "</div>"
      ],
      "text/plain": [
       "       Fecha  Precip  Evap  Tmax  Tmin  Tsum  Tprom  Mes  Día\n",
       "0 1961-01-01     0.0   3.7  25.0   9.0  34.0  17.00    1    1\n",
       "1 1961-01-02     0.0   4.7  25.5   8.5  34.0  17.00    1    2\n",
       "2 1961-01-03     0.0   5.4  25.0   6.0  31.0  15.50    1    3\n",
       "3 1961-01-04     0.0   4.0  24.0   6.0  30.0  15.00    1    4\n",
       "4 1961-01-05     0.0   2.8  24.5   6.0  30.5  15.25    1    5"
      ]
     },
     "execution_count": 214,
     "metadata": {},
     "output_type": "execute_result"
    }
   ],
   "source": [
    "# Primero creamos una columna nueva para tener los meses y días de cada año\n",
    "df['Mes'] = df['Fecha'].dt.month\n",
    "df['Día'] = df['Fecha'].dt.day\n",
    "df.head()"
   ]
  },
  {
   "cell_type": "code",
   "execution_count": 215,
   "metadata": {},
   "outputs": [
    {
     "data": {
      "text/plain": [
       "Fecha  Mes\n",
       "1961   1      5\n",
       "1962   1      5\n",
       "1963   1      5\n",
       "1964   1      5\n",
       "1965   1      5\n",
       "1966   1      5\n",
       "1967   1      5\n",
       "1968   1      5\n",
       "1970   1      5\n",
       "1971   1      5\n",
       "1972   1      5\n",
       "1973   1      5\n",
       "1974   1      5\n",
       "1975   1      5\n",
       "1976   1      5\n",
       "1977   1      5\n",
       "1978   1      5\n",
       "1979   1      5\n",
       "1980   1      5\n",
       "1981   1      5\n",
       "1982   1      5\n",
       "1983   1      5\n",
       "1984   1      4\n",
       "1985   1      5\n",
       "1986   1      5\n",
       "1987   1      5\n",
       "1988   1      5\n",
       "1989   1      5\n",
       "1990   1      5\n",
       "1991   1      5\n",
       "1992   1      5\n",
       "1993   1      5\n",
       "1994   1      5\n",
       "1995   1      5\n",
       "1996   1      5\n",
       "1997   1      5\n",
       "1998   1      5\n",
       "1999   1      5\n",
       "2000   1      5\n",
       "2001   1      5\n",
       "2002   1      5\n",
       "2003   1      5\n",
       "2004   1      5\n",
       "2005   1      5\n",
       "2006   1      5\n",
       "2007   1      5\n",
       "2008   1      5\n",
       "2009   1      5\n",
       "2010   1      5\n",
       "2011   1      5\n",
       "2012   1      5\n",
       "2013   1      5\n",
       "2014   1      5\n",
       "2015   1      5\n",
       "2016   1      5\n",
       "Name: Tprom, dtype: int64"
      ]
     },
     "execution_count": 215,
     "metadata": {},
     "output_type": "execute_result"
    }
   ],
   "source": [
    "# Seleccionamos los primeros 6 días del año\n",
    "df_Ene = df[df.Mes <= 1]\n",
    "df_FDays = df_Ene[df_Ene.Día <= 5]\n",
    "df_GSL = df_FDays[df_FDays.Tprom > 6]\n",
    "df_GSL\n",
    "df_GSL['Tprom'].groupby([df.Fecha.dt.year, df.Mes]).agg('count')"
   ]
  },
  {
   "cell_type": "code",
   "execution_count": 216,
   "metadata": {},
   "outputs": [
    {
     "data": {
      "text/plain": [
       "Series([], Name: Tprom, dtype: int64)"
      ]
     },
     "execution_count": 216,
     "metadata": {},
     "output_type": "execute_result"
    }
   ],
   "source": [
    "# Seleccionamos los últimos 6 días del año\n",
    "df_Dic = df[df.Mes >= 12]\n",
    "df_LDays = df_Dic[df_Dic.Día >= 27]\n",
    "df_GSLf = df_LDays[df_LDays.Tprom < 5]\n",
    "df_GSLf['Tprom'].groupby([df.Fecha.dt.year, df.Mes]).agg('count')"
   ]
  },
  {
   "cell_type": "code",
   "execution_count": 221,
   "metadata": {},
   "outputs": [
    {
     "data": {
      "text/plain": [
       "Fecha\n",
       "1     31.0\n",
       "2     34.5\n",
       "3     37.0\n",
       "4     38.5\n",
       "5     40.0\n",
       "6     39.0\n",
       "7     37.0\n",
       "8     37.5\n",
       "9     36.0\n",
       "10    36.0\n",
       "11    38.0\n",
       "12    33.0\n",
       "Name: Tmax, dtype: float64"
      ]
     },
     "execution_count": 221,
     "metadata": {},
     "output_type": "execute_result"
    }
   ],
   "source": [
    "df.groupby(df.Fecha.dt.month)['Tmax'].max()"
   ]
  },
  {
   "cell_type": "code",
   "execution_count": 228,
   "metadata": {},
   "outputs": [
    {
     "data": {
      "text/plain": [
       "Fecha\n",
       "1     13.0\n",
       "2     13.0\n",
       "3     15.0\n",
       "4     18.0\n",
       "5     22.0\n",
       "6     21.0\n",
       "7     20.0\n",
       "8     19.0\n",
       "9     19.0\n",
       "10    17.5\n",
       "11    16.5\n",
       "12    15.0\n",
       "Name: Tmin, dtype: float64"
      ]
     },
     "execution_count": 228,
     "metadata": {},
     "output_type": "execute_result"
    }
   ],
   "source": [
    "df.groupby(df.Fecha.dt.month)['Tmin'].max()"
   ]
  },
  {
   "cell_type": "code",
   "execution_count": 226,
   "metadata": {},
   "outputs": [
    {
     "data": {
      "text/plain": [
       "Fecha\n",
       "1     10.0\n",
       "2     11.5\n",
       "3     10.5\n",
       "4     13.0\n",
       "5     17.5\n",
       "6     19.0\n",
       "7     20.0\n",
       "8     19.0\n",
       "9     17.0\n",
       "10    16.0\n",
       "11    14.0\n",
       "12     9.5\n",
       "Name: Tmax, dtype: float64"
      ]
     },
     "execution_count": 226,
     "metadata": {},
     "output_type": "execute_result"
    }
   ],
   "source": [
    "df.groupby(df.Fecha.dt.month)['Tmax'].min()"
   ]
  },
  {
   "cell_type": "code",
   "execution_count": 227,
   "metadata": {},
   "outputs": [
    {
     "data": {
      "text/plain": [
       "Fecha\n",
       "1     -1.0\n",
       "2     -5.0\n",
       "3      1.0\n",
       "4      4.5\n",
       "5      7.0\n",
       "6      8.0\n",
       "7     10.0\n",
       "8      9.0\n",
       "9      4.0\n",
       "10     2.0\n",
       "11    -2.0\n",
       "12    -6.5\n",
       "Name: Tmin, dtype: float64"
      ]
     },
     "execution_count": 227,
     "metadata": {},
     "output_type": "execute_result"
    }
   ],
   "source": [
    "df.groupby(df.Fecha.dt.month)['Tmin'].min()"
   ]
  },
  {
   "cell_type": "code",
   "execution_count": 229,
   "metadata": {},
   "outputs": [],
   "source": [
    "df['Tdif'] = df.Tmax - df.Tmin"
   ]
  },
  {
   "cell_type": "code",
   "execution_count": 230,
   "metadata": {},
   "outputs": [
    {
     "data": {
      "text/html": [
       "<div>\n",
       "<style scoped>\n",
       "    .dataframe tbody tr th:only-of-type {\n",
       "        vertical-align: middle;\n",
       "    }\n",
       "\n",
       "    .dataframe tbody tr th {\n",
       "        vertical-align: top;\n",
       "    }\n",
       "\n",
       "    .dataframe thead th {\n",
       "        text-align: right;\n",
       "    }\n",
       "</style>\n",
       "<table border=\"1\" class=\"dataframe\">\n",
       "  <thead>\n",
       "    <tr style=\"text-align: right;\">\n",
       "      <th></th>\n",
       "      <th>Fecha</th>\n",
       "      <th>Precip</th>\n",
       "      <th>Evap</th>\n",
       "      <th>Tmax</th>\n",
       "      <th>Tmin</th>\n",
       "      <th>Tsum</th>\n",
       "      <th>Tprom</th>\n",
       "      <th>Mes</th>\n",
       "      <th>Día</th>\n",
       "      <th>Tdif</th>\n",
       "    </tr>\n",
       "  </thead>\n",
       "  <tbody>\n",
       "    <tr>\n",
       "      <th>0</th>\n",
       "      <td>1961-01-01</td>\n",
       "      <td>0.0</td>\n",
       "      <td>3.7</td>\n",
       "      <td>25.0</td>\n",
       "      <td>9.0</td>\n",
       "      <td>34.0</td>\n",
       "      <td>17.00</td>\n",
       "      <td>1</td>\n",
       "      <td>1</td>\n",
       "      <td>16.0</td>\n",
       "    </tr>\n",
       "    <tr>\n",
       "      <th>1</th>\n",
       "      <td>1961-01-02</td>\n",
       "      <td>0.0</td>\n",
       "      <td>4.7</td>\n",
       "      <td>25.5</td>\n",
       "      <td>8.5</td>\n",
       "      <td>34.0</td>\n",
       "      <td>17.00</td>\n",
       "      <td>1</td>\n",
       "      <td>2</td>\n",
       "      <td>17.0</td>\n",
       "    </tr>\n",
       "    <tr>\n",
       "      <th>2</th>\n",
       "      <td>1961-01-03</td>\n",
       "      <td>0.0</td>\n",
       "      <td>5.4</td>\n",
       "      <td>25.0</td>\n",
       "      <td>6.0</td>\n",
       "      <td>31.0</td>\n",
       "      <td>15.50</td>\n",
       "      <td>1</td>\n",
       "      <td>3</td>\n",
       "      <td>19.0</td>\n",
       "    </tr>\n",
       "    <tr>\n",
       "      <th>3</th>\n",
       "      <td>1961-01-04</td>\n",
       "      <td>0.0</td>\n",
       "      <td>4.0</td>\n",
       "      <td>24.0</td>\n",
       "      <td>6.0</td>\n",
       "      <td>30.0</td>\n",
       "      <td>15.00</td>\n",
       "      <td>1</td>\n",
       "      <td>4</td>\n",
       "      <td>18.0</td>\n",
       "    </tr>\n",
       "    <tr>\n",
       "      <th>4</th>\n",
       "      <td>1961-01-05</td>\n",
       "      <td>0.0</td>\n",
       "      <td>2.8</td>\n",
       "      <td>24.5</td>\n",
       "      <td>6.0</td>\n",
       "      <td>30.5</td>\n",
       "      <td>15.25</td>\n",
       "      <td>1</td>\n",
       "      <td>5</td>\n",
       "      <td>18.5</td>\n",
       "    </tr>\n",
       "  </tbody>\n",
       "</table>\n",
       "</div>"
      ],
      "text/plain": [
       "       Fecha  Precip  Evap  Tmax  Tmin  Tsum  Tprom  Mes  Día  Tdif\n",
       "0 1961-01-01     0.0   3.7  25.0   9.0  34.0  17.00    1    1  16.0\n",
       "1 1961-01-02     0.0   4.7  25.5   8.5  34.0  17.00    1    2  17.0\n",
       "2 1961-01-03     0.0   5.4  25.0   6.0  31.0  15.50    1    3  19.0\n",
       "3 1961-01-04     0.0   4.0  24.0   6.0  30.0  15.00    1    4  18.0\n",
       "4 1961-01-05     0.0   2.8  24.5   6.0  30.5  15.25    1    5  18.5"
      ]
     },
     "execution_count": 230,
     "metadata": {},
     "output_type": "execute_result"
    }
   ],
   "source": [
    "df.head()"
   ]
  },
  {
   "cell_type": "code",
   "execution_count": 231,
   "metadata": {},
   "outputs": [
    {
     "data": {
      "text/plain": [
       "Fecha\n",
       "1     17.511496\n",
       "2     18.526255\n",
       "3     19.154090\n",
       "4     18.949762\n",
       "5     17.897340\n",
       "6     14.799815\n",
       "7     13.185130\n",
       "8     13.363458\n",
       "9     13.344048\n",
       "10    15.635119\n",
       "11    17.289524\n",
       "12    17.235073\n",
       "Name: Tdif, dtype: float64"
      ]
     },
     "execution_count": 231,
     "metadata": {},
     "output_type": "execute_result"
    }
   ],
   "source": [
    "df.groupby(df.Fecha.dt.month)['Tdif'].mean()"
   ]
  },
  {
   "cell_type": "code",
   "execution_count": 234,
   "metadata": {},
   "outputs": [
    {
     "data": {
      "text/plain": [
       "Fecha\n",
       "1      27.0\n",
       "2      70.5\n",
       "3      36.0\n",
       "4      31.0\n",
       "5      33.5\n",
       "6      87.4\n",
       "7      71.9\n",
       "8      83.9\n",
       "9     109.0\n",
       "10     65.6\n",
       "11     37.6\n",
       "12     27.3\n",
       "Name: Precip, dtype: float64"
      ]
     },
     "execution_count": 234,
     "metadata": {},
     "output_type": "execute_result"
    }
   ],
   "source": [
    "df.groupby(df.Fecha.dt.month)['Precip'].max()"
   ]
  },
  {
   "cell_type": "code",
   "execution_count": 235,
   "metadata": {},
   "outputs": [
    {
     "data": {
      "text/plain": [
       "Fecha\n",
       "1961    57\n",
       "1962    64\n",
       "1963    78\n",
       "1964    75\n",
       "1965    72\n",
       "1966    86\n",
       "1967    83\n",
       "1968    80\n",
       "1969    47\n",
       "1970    53\n",
       "1971    80\n",
       "1972    63\n",
       "1973    74\n",
       "1974    57\n",
       "1975    64\n",
       "1976    73\n",
       "1977    64\n",
       "1978    67\n",
       "1979    49\n",
       "1980    74\n",
       "1981    66\n",
       "1982    46\n",
       "1983    59\n",
       "1984    55\n",
       "1985    60\n",
       "1986    69\n",
       "1987    56\n",
       "1988    57\n",
       "1989    56\n",
       "1990    74\n",
       "1991    63\n",
       "1992    81\n",
       "1993    64\n",
       "1994    54\n",
       "1995    60\n",
       "1996    45\n",
       "1997    60\n",
       "1998    53\n",
       "1999    41\n",
       "2000    44\n",
       "2001    73\n",
       "2002    66\n",
       "2003    75\n",
       "2004    96\n",
       "2005    43\n",
       "2006    71\n",
       "2007    63\n",
       "2008    58\n",
       "2009    64\n",
       "2010    53\n",
       "2011    38\n",
       "2012    42\n",
       "2013    71\n",
       "2014    67\n",
       "2015    71\n",
       "2016    60\n",
       "Name: Precip, dtype: int64"
      ]
     },
     "execution_count": 235,
     "metadata": {},
     "output_type": "execute_result"
    }
   ],
   "source": [
    "# Número de días en un año con precipitación mayor igual a 1mm\n",
    "df_SDII = df[df.Precip >= 1]\n",
    "df_SDII['Precip'].groupby(df.Fecha.dt.year).agg('count')"
   ]
  },
  {
   "cell_type": "code",
   "execution_count": 237,
   "metadata": {},
   "outputs": [
    {
     "data": {
      "text/plain": [
       "Fecha\n",
       "1961    13\n",
       "1962    19\n",
       "1963    17\n",
       "1964    20\n",
       "1965    24\n",
       "1966    20\n",
       "1967    28\n",
       "1968    26\n",
       "1969    12\n",
       "1970    25\n",
       "1971    31\n",
       "1972    22\n",
       "1973    27\n",
       "1974    20\n",
       "1975    29\n",
       "1976    28\n",
       "1977    20\n",
       "1978    28\n",
       "1979    13\n",
       "1980    22\n",
       "1981    20\n",
       "1982    14\n",
       "1983    16\n",
       "1984    16\n",
       "1985    18\n",
       "1986    20\n",
       "1987     2\n",
       "1988    13\n",
       "1989     9\n",
       "1990     6\n",
       "1991     1\n",
       "1992    27\n",
       "1993    17\n",
       "1994    15\n",
       "1995    24\n",
       "1996    18\n",
       "1997    17\n",
       "1998    23\n",
       "1999    13\n",
       "2000    14\n",
       "2001    25\n",
       "2002    31\n",
       "2003    36\n",
       "2004    37\n",
       "2005    14\n",
       "2006    25\n",
       "2007    30\n",
       "2008    27\n",
       "2009    20\n",
       "2010    20\n",
       "2011     7\n",
       "2012    16\n",
       "2013    28\n",
       "2014    28\n",
       "2015    30\n",
       "2016    25\n",
       "Name: Precip, dtype: int64"
      ]
     },
     "execution_count": 237,
     "metadata": {},
     "output_type": "execute_result"
    }
   ],
   "source": [
    "# Número de días en el año con precipitación diaria mayor igual a 10 mm.\n",
    "df_R10 = df[df.Precip >= 10]\n",
    "df_R10['Precip'].groupby(df.Fecha.dt.year).agg('count')"
   ]
  },
  {
   "cell_type": "code",
   "execution_count": 238,
   "metadata": {},
   "outputs": [
    {
     "data": {
      "text/plain": [
       "Fecha\n",
       "1961     3\n",
       "1962     6\n",
       "1963     7\n",
       "1964     4\n",
       "1965     7\n",
       "1966     6\n",
       "1967    11\n",
       "1968     7\n",
       "1969     3\n",
       "1970     7\n",
       "1971    19\n",
       "1972    12\n",
       "1973    15\n",
       "1974     8\n",
       "1975    14\n",
       "1976    14\n",
       "1977     9\n",
       "1978    10\n",
       "1979     3\n",
       "1980     6\n",
       "1981     4\n",
       "1982     4\n",
       "1983     8\n",
       "1984     7\n",
       "1985     6\n",
       "1986    10\n",
       "1987     1\n",
       "1988     3\n",
       "1989     3\n",
       "1992     7\n",
       "1993     6\n",
       "1994     5\n",
       "1995     8\n",
       "1996     7\n",
       "1997     5\n",
       "1998    15\n",
       "1999     7\n",
       "2000     5\n",
       "2001    13\n",
       "2002    16\n",
       "2003    17\n",
       "2004    20\n",
       "2005     3\n",
       "2006     6\n",
       "2007    14\n",
       "2008    17\n",
       "2009     8\n",
       "2010    12\n",
       "2011     4\n",
       "2012    11\n",
       "2013    13\n",
       "2014     7\n",
       "2015    10\n",
       "2016    10\n",
       "Name: Precip, dtype: int64"
      ]
     },
     "execution_count": 238,
     "metadata": {},
     "output_type": "execute_result"
    }
   ],
   "source": [
    "# Número de días en el año con precipitación diaria mayor igual a 20mm.\n",
    "df_R20 = df[df.Precip >= 20]\n",
    "df_R20['Precip'].groupby(df.Fecha.dt.year).agg('count')"
   ]
  },
  {
   "cell_type": "code",
   "execution_count": 277,
   "metadata": {},
   "outputs": [
    {
     "ename": "SyntaxError",
     "evalue": "invalid syntax (<ipython-input-277-72069c1ee5e4>, line 6)",
     "output_type": "error",
     "traceback": [
      "\u001b[1;36m  File \u001b[1;32m\"<ipython-input-277-72069c1ee5e4>\"\u001b[1;36m, line \u001b[1;32m6\u001b[0m\n\u001b[1;33m    for i in j\u001b[0m\n\u001b[1;37m              ^\u001b[0m\n\u001b[1;31mSyntaxError\u001b[0m\u001b[1;31m:\u001b[0m invalid syntax\n"
     ]
    }
   ],
   "source": [
    "# Número de días consecutivos secos, sin precipitación o precipitación < 1mm.\n",
    "df_CDD = df[df.Precip > 1]\n",
    "df_CDD.groupby(df.Fecha).agg('count')\n",
    "#Dias con heladas tmin<0\n",
    "j = df.Precip\n",
    "for i in j\n",
    "    if i < 1\n",
    "        break"
   ]
  },
  {
   "cell_type": "code",
   "execution_count": null,
   "metadata": {},
   "outputs": [],
   "source": [
    "# Número de días consecutivos húmedos, con precipitación igual o mayor a 1mm."
   ]
  }
 ],
 "metadata": {
  "kernelspec": {
   "display_name": "Python 3",
   "language": "python",
   "name": "python3"
  },
  "language_info": {
   "codemirror_mode": {
    "name": "ipython",
    "version": 3
   },
   "file_extension": ".py",
   "mimetype": "text/x-python",
   "name": "python",
   "nbconvert_exporter": "python",
   "pygments_lexer": "ipython3",
   "version": "3.7.1"
  }
 },
 "nbformat": 4,
 "nbformat_minor": 2
}
